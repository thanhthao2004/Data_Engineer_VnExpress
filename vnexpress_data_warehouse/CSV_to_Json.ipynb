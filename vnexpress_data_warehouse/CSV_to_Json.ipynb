{
 "cells": [
  {
   "cell_type": "code",
   "execution_count": 9,
   "metadata": {},
   "outputs": [],
   "source": [
    "import csv\n",
    "import json\n",
    "\n",
    "# Function to convert a CSV to JSON\n",
    "# Takes the file paths as arguments\n",
    "def make_json(csvFilePath, jsonFilePath):\n",
    "    \n",
    "    # create a dictionary\n",
    "    data = {}\n",
    "    \n",
    "    # Open a csv reader called DictReader\n",
    "    with open(csvFilePath, encoding='utf-8') as csvf:\n",
    "        csvReader = csv.DictReader(csvf)\n",
    "        \n",
    "        # Convert each row into a dictionary \n",
    "        # and add it to data\n",
    "        for rows in csvReader:\n",
    "            \n",
    "            # Assuming a column named 'key_primary' to be the primary key\n",
    "            key = rows['key_primary']\n",
    "            data[key] = rows\n",
    "\n",
    "    # Open a json writer, and use the json.dumps() function to dump data\n",
    "    with open(jsonFilePath, 'w', encoding='utf-8') as jsonf:\n",
    "        jsonf.write(json.dumps(data, indent=4, ensure_ascii=False))  # Ensure no Unicode escape sequences\n",
    "\n",
    "# Driver Code\n",
    "csvFilePath = r'/Users/tranthithanhthao/Documents/GitHub/vnexpress_data_warehouse/vnexpress_data_warehouse/DataFinal_CacBenh_cleaned.csv'\n",
    "jsonFilePath = r'/Users/tranthithanhthao/Documents/GitHub/vnexpress_data_warehouse/vnexpress_data_warehouse/spiders/DataFinal_CacBenh_cleaned.json'\n",
    "\n",
    "# Call the make_json function\n",
    "make_json(csvFilePath, jsonFilePath)"
   ]
  }
 ],
 "metadata": {
  "kernelspec": {
   "display_name": "Python 3",
   "language": "python",
   "name": "python3"
  },
  "language_info": {
   "codemirror_mode": {
    "name": "ipython",
    "version": 3
   },
   "file_extension": ".py",
   "mimetype": "text/x-python",
   "name": "python",
   "nbconvert_exporter": "python",
   "pygments_lexer": "ipython3",
   "version": "3.11.4"
  }
 },
 "nbformat": 4,
 "nbformat_minor": 2
}
